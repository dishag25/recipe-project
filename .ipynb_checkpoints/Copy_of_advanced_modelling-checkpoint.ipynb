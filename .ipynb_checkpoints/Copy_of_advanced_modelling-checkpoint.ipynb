{
 "cells": [
  {
   "cell_type": "markdown",
   "metadata": {
    "id": "k9LzYUz7VAB-"
   },
   "source": [
    "# Collaborative Based Recommendation\n",
    "## Funk Singular Value Decomposition (FunkSVD)"
   ]
  },
  {
   "cell_type": "code",
   "execution_count": 1,
   "metadata": {
    "id": "gj4lXlCzVACC"
   },
   "outputs": [],
   "source": [
    "# Import the basic packages\n",
    "import numpy as np\n",
    "import pandas as pd\n",
    "\n",
    "# Import the surprise packages\n",
    "#!pip install scikit-surprise\n",
    "from surprise import Dataset\n",
    "from surprise.reader import Reader\n",
    "from surprise.prediction_algorithms.matrix_factorization import SVD as FunkSVD"
   ]
  },
  {
   "cell_type": "code",
   "execution_count": 2,
   "metadata": {
    "id": "GTjGGBL1VACD"
   },
   "outputs": [],
   "source": [
    "rating_df = pd.read_pickle(\"clean_interactions.pkl\")\n",
    "recipes_df = pd.read_pickle(\"clean_recipes.pkl\")"
   ]
  },
  {
   "cell_type": "code",
   "execution_count": 3,
   "metadata": {
    "colab": {
     "base_uri": "https://localhost:8080/",
     "height": 389
    },
    "id": "ttIHqCDbVACD",
    "outputId": "c667c3d8-ca38-4739-ca6b-0a6977947402"
   },
   "outputs": [
    {
     "data": {
      "text/html": [
       "<div>\n",
       "<style scoped>\n",
       "    .dataframe tbody tr th:only-of-type {\n",
       "        vertical-align: middle;\n",
       "    }\n",
       "\n",
       "    .dataframe tbody tr th {\n",
       "        vertical-align: top;\n",
       "    }\n",
       "\n",
       "    .dataframe thead th {\n",
       "        text-align: right;\n",
       "    }\n",
       "</style>\n",
       "<table border=\"1\" class=\"dataframe\">\n",
       "  <thead>\n",
       "    <tr style=\"text-align: right;\">\n",
       "      <th></th>\n",
       "      <th>user_id</th>\n",
       "      <th>recipe_id</th>\n",
       "      <th>date</th>\n",
       "      <th>rating</th>\n",
       "      <th>review</th>\n",
       "      <th>review_month</th>\n",
       "      <th>review_year</th>\n",
       "    </tr>\n",
       "  </thead>\n",
       "  <tbody>\n",
       "    <tr>\n",
       "      <th>0</th>\n",
       "      <td>38094</td>\n",
       "      <td>40893</td>\n",
       "      <td>2003-02-17</td>\n",
       "      <td>4</td>\n",
       "      <td>Great with a salad. Cooked on top of stove for...</td>\n",
       "      <td>Feb</td>\n",
       "      <td>2003</td>\n",
       "    </tr>\n",
       "    <tr>\n",
       "      <th>1</th>\n",
       "      <td>1293707</td>\n",
       "      <td>40893</td>\n",
       "      <td>2011-12-21</td>\n",
       "      <td>5</td>\n",
       "      <td>So simple, so delicious! Great for chilly fall...</td>\n",
       "      <td>Dec</td>\n",
       "      <td>2011</td>\n",
       "    </tr>\n",
       "    <tr>\n",
       "      <th>2</th>\n",
       "      <td>8937</td>\n",
       "      <td>44394</td>\n",
       "      <td>2002-12-01</td>\n",
       "      <td>4</td>\n",
       "      <td>This worked very well and is EASY.  I used not...</td>\n",
       "      <td>Dec</td>\n",
       "      <td>2002</td>\n",
       "    </tr>\n",
       "    <tr>\n",
       "      <th>3</th>\n",
       "      <td>126440</td>\n",
       "      <td>85009</td>\n",
       "      <td>2010-02-27</td>\n",
       "      <td>5</td>\n",
       "      <td>I made the Mexican topping and took it to bunk...</td>\n",
       "      <td>Feb</td>\n",
       "      <td>2010</td>\n",
       "    </tr>\n",
       "    <tr>\n",
       "      <th>4</th>\n",
       "      <td>57222</td>\n",
       "      <td>85009</td>\n",
       "      <td>2011-10-01</td>\n",
       "      <td>5</td>\n",
       "      <td>Made the cheddar bacon topping, adding a sprin...</td>\n",
       "      <td>Oct</td>\n",
       "      <td>2011</td>\n",
       "    </tr>\n",
       "  </tbody>\n",
       "</table>\n",
       "</div>"
      ],
      "text/plain": [
       "   user_id recipe_id       date  rating  \\\n",
       "0    38094     40893 2003-02-17       4   \n",
       "1  1293707     40893 2011-12-21       5   \n",
       "2     8937     44394 2002-12-01       4   \n",
       "3   126440     85009 2010-02-27       5   \n",
       "4    57222     85009 2011-10-01       5   \n",
       "\n",
       "                                              review review_month  review_year  \n",
       "0  Great with a salad. Cooked on top of stove for...          Feb         2003  \n",
       "1  So simple, so delicious! Great for chilly fall...          Dec         2011  \n",
       "2  This worked very well and is EASY.  I used not...          Dec         2002  \n",
       "3  I made the Mexican topping and took it to bunk...          Feb         2010  \n",
       "4  Made the cheddar bacon topping, adding a sprin...          Oct         2011  "
      ]
     },
     "metadata": {},
     "output_type": "display_data"
    },
    {
     "name": "stdout",
     "output_type": "stream",
     "text": [
      "Shape:  (1071351, 7)\n",
      "Number of Unique Users: 195947\n",
      "Number of Unique recipes: 226583\n"
     ]
    }
   ],
   "source": [
    "# Check the recipe dataset\n",
    "display(rating_df.head())\n",
    "print('Shape: ', rating_df.shape)\n",
    "print('Number of Unique Users:',len(rating_df['user_id'].unique()))\n",
    "print('Number of Unique recipes:',len(rating_df['recipe_id'].unique()))"
   ]
  },
  {
   "cell_type": "code",
   "execution_count": 4,
   "metadata": {
    "colab": {
     "base_uri": "https://localhost:8080/"
    },
    "id": "0an2w3RpVACE",
    "outputId": "024d8159-2d6c-4596-dc31-66fcc0c6d1b7"
   },
   "outputs": [
    {
     "name": "stdout",
     "output_type": "stream",
     "text": [
      "Shape of Sampled Dataset: (10714, 7)\n"
     ]
    }
   ],
   "source": [
    "# Sample 10% of the dataset\n",
    "sampled_data = rating_df.sample(frac=0.01, random_state=42)\n",
    "\n",
    "# Print the shape of the sampled dataset\n",
    "print(\"Shape of Sampled Dataset:\", sampled_data.shape)"
   ]
  },
  {
   "cell_type": "code",
   "execution_count": 5,
   "metadata": {
    "colab": {
     "base_uri": "https://localhost:8080/"
    },
    "id": "e3hNI2BsVACE",
    "outputId": "f37a66a0-0049-4a03-dd4a-3cbd84906f6e"
   },
   "outputs": [
    {
     "name": "stdout",
     "output_type": "stream",
     "text": [
      "Min:1\n",
      "Max:5\n"
     ]
    }
   ],
   "source": [
    "# Check the min and max value of rating columns\n",
    "print(f'Min:{sampled_data[\"rating\"].min()}')\n",
    "print(f'Max:{sampled_data[\"rating\"].max()}')"
   ]
  },
  {
   "cell_type": "code",
   "execution_count": 6,
   "metadata": {
    "colab": {
     "base_uri": "https://localhost:8080/",
     "height": 49
    },
    "id": "EQeMNzugVACF",
    "outputId": "062eb7f3-4845-4801-94ea-7cb5b1a444b3"
   },
   "outputs": [
    {
     "data": {
      "text/html": [
       "<div>\n",
       "<style scoped>\n",
       "    .dataframe tbody tr th:only-of-type {\n",
       "        vertical-align: middle;\n",
       "    }\n",
       "\n",
       "    .dataframe tbody tr th {\n",
       "        vertical-align: top;\n",
       "    }\n",
       "\n",
       "    .dataframe thead th {\n",
       "        text-align: right;\n",
       "    }\n",
       "</style>\n",
       "<table border=\"1\" class=\"dataframe\">\n",
       "  <thead>\n",
       "    <tr style=\"text-align: right;\">\n",
       "      <th></th>\n",
       "      <th>user_id</th>\n",
       "      <th>recipe_id</th>\n",
       "      <th>date</th>\n",
       "      <th>rating</th>\n",
       "      <th>review</th>\n",
       "      <th>review_month</th>\n",
       "      <th>review_year</th>\n",
       "    </tr>\n",
       "  </thead>\n",
       "  <tbody>\n",
       "  </tbody>\n",
       "</table>\n",
       "</div>"
      ],
      "text/plain": [
       "Empty DataFrame\n",
       "Columns: [user_id, recipe_id, date, rating, review, review_month, review_year]\n",
       "Index: []"
      ]
     },
     "execution_count": 6,
     "metadata": {},
     "output_type": "execute_result"
    }
   ],
   "source": [
    "# check if there is null values in the rating\n",
    "sampled_data[sampled_data['rating'].isna()]"
   ]
  },
  {
   "cell_type": "code",
   "execution_count": 7,
   "metadata": {
    "colab": {
     "base_uri": "https://localhost:8080/"
    },
    "id": "XEWCrZhpVACF",
    "outputId": "754e8133-7e9b-4a19-c898-bc9208b84d40"
   },
   "outputs": [
    {
     "data": {
      "text/plain": [
       "424680     75\n",
       "37449      64\n",
       "383346     52\n",
       "128473     43\n",
       "169430     37\n",
       "           ..\n",
       "31261       1\n",
       "1704786     1\n",
       "295299      1\n",
       "268932      1\n",
       "561328      1\n",
       "Name: user_id, Length: 6320, dtype: int64"
      ]
     },
     "execution_count": 7,
     "metadata": {},
     "output_type": "execute_result"
    }
   ],
   "source": [
    "sampled_data['user_id'].value_counts()"
   ]
  },
  {
   "cell_type": "code",
   "execution_count": 8,
   "metadata": {
    "colab": {
     "base_uri": "https://localhost:8080/"
    },
    "id": "qYwRQw40VACF",
    "outputId": "9d208ee7-fa04-45ae-f277-92beab36290d"
   },
   "outputs": [
    {
     "data": {
      "text/plain": [
       "(52, 7)"
      ]
     },
     "execution_count": 8,
     "metadata": {},
     "output_type": "execute_result"
    }
   ],
   "source": [
    "# Check number of recipes rated by user 383346\n",
    "user_383346 = sampled_data[sampled_data['user_id'] == '383346']\n",
    "user_383346.shape"
   ]
  },
  {
   "cell_type": "code",
   "execution_count": 9,
   "metadata": {
    "colab": {
     "base_uri": "https://localhost:8080/"
    },
    "id": "eK8FEVNiVACF",
    "outputId": "e9951c36-31d0-48c5-ecd4-1b5157c83abd"
   },
   "outputs": [
    {
     "data": {
      "text/plain": [
       "46"
      ]
     },
     "execution_count": 9,
     "metadata": {},
     "output_type": "execute_result"
    }
   ],
   "source": [
    "# find the number of recipe user 383346 rated as 5/5\n",
    "sum(user_383346['rating'] == 5)"
   ]
  },
  {
   "cell_type": "code",
   "execution_count": 10,
   "metadata": {
    "colab": {
     "base_uri": "https://localhost:8080/",
     "height": 581
    },
    "id": "C76yiit5VACG",
    "outputId": "ba24c326-90ee-4305-fd8f-fb9c398046a4"
   },
   "outputs": [
    {
     "data": {
      "text/html": [
       "<div>\n",
       "<style scoped>\n",
       "    .dataframe tbody tr th:only-of-type {\n",
       "        vertical-align: middle;\n",
       "    }\n",
       "\n",
       "    .dataframe tbody tr th {\n",
       "        vertical-align: top;\n",
       "    }\n",
       "\n",
       "    .dataframe thead th {\n",
       "        text-align: right;\n",
       "    }\n",
       "</style>\n",
       "<table border=\"1\" class=\"dataframe\">\n",
       "  <thead>\n",
       "    <tr style=\"text-align: right;\">\n",
       "      <th></th>\n",
       "      <th>user_id</th>\n",
       "      <th>recipe_id</th>\n",
       "      <th>date</th>\n",
       "      <th>rating</th>\n",
       "      <th>review</th>\n",
       "      <th>review_month</th>\n",
       "      <th>review_year</th>\n",
       "    </tr>\n",
       "  </thead>\n",
       "  <tbody>\n",
       "    <tr>\n",
       "      <th>732206</th>\n",
       "      <td>383346</td>\n",
       "      <td>294524</td>\n",
       "      <td>2011-01-04</td>\n",
       "      <td>5</td>\n",
       "      <td>I made this drink for DH and he liked it so mu...</td>\n",
       "      <td>Jan</td>\n",
       "      <td>2011</td>\n",
       "    </tr>\n",
       "    <tr>\n",
       "      <th>849428</th>\n",
       "      <td>383346</td>\n",
       "      <td>280273</td>\n",
       "      <td>2010-04-19</td>\n",
       "      <td>5</td>\n",
       "      <td>This is so yummy.  I used the white bread I ma...</td>\n",
       "      <td>Apr</td>\n",
       "      <td>2010</td>\n",
       "    </tr>\n",
       "    <tr>\n",
       "      <th>887712</th>\n",
       "      <td>383346</td>\n",
       "      <td>301070</td>\n",
       "      <td>2009-06-09</td>\n",
       "      <td>5</td>\n",
       "      <td>I used raspberry jelly.  This was a very good ...</td>\n",
       "      <td>Jun</td>\n",
       "      <td>2009</td>\n",
       "    </tr>\n",
       "    <tr>\n",
       "      <th>618591</th>\n",
       "      <td>383346</td>\n",
       "      <td>176934</td>\n",
       "      <td>2007-09-06</td>\n",
       "      <td>5</td>\n",
       "      <td>This is a very easy marinade to do.  No veggie...</td>\n",
       "      <td>Sep</td>\n",
       "      <td>2007</td>\n",
       "    </tr>\n",
       "    <tr>\n",
       "      <th>511420</th>\n",
       "      <td>383346</td>\n",
       "      <td>454534</td>\n",
       "      <td>2011-05-02</td>\n",
       "      <td>5</td>\n",
       "      <td>This drink is great.  Perfect for a hot aftern...</td>\n",
       "      <td>May</td>\n",
       "      <td>2011</td>\n",
       "    </tr>\n",
       "    <tr>\n",
       "      <th>248971</th>\n",
       "      <td>383346</td>\n",
       "      <td>248610</td>\n",
       "      <td>2007-09-18</td>\n",
       "      <td>5</td>\n",
       "      <td>I didn't add grenadine in the shaker.  But I d...</td>\n",
       "      <td>Sep</td>\n",
       "      <td>2007</td>\n",
       "    </tr>\n",
       "    <tr>\n",
       "      <th>1008960</th>\n",
       "      <td>383346</td>\n",
       "      <td>209800</td>\n",
       "      <td>2007-11-11</td>\n",
       "      <td>5</td>\n",
       "      <td>I used all purpose flour also.  I used butter,...</td>\n",
       "      <td>Nov</td>\n",
       "      <td>2007</td>\n",
       "    </tr>\n",
       "    <tr>\n",
       "      <th>438658</th>\n",
       "      <td>383346</td>\n",
       "      <td>192285</td>\n",
       "      <td>2012-02-20</td>\n",
       "      <td>5</td>\n",
       "      <td>This is so easy to do.  It's amazing how it's ...</td>\n",
       "      <td>Feb</td>\n",
       "      <td>2012</td>\n",
       "    </tr>\n",
       "    <tr>\n",
       "      <th>323181</th>\n",
       "      <td>383346</td>\n",
       "      <td>305691</td>\n",
       "      <td>2013-05-08</td>\n",
       "      <td>5</td>\n",
       "      <td>For me this dipping oil was perfect.  I liked ...</td>\n",
       "      <td>May</td>\n",
       "      <td>2013</td>\n",
       "    </tr>\n",
       "    <tr>\n",
       "      <th>1025996</th>\n",
       "      <td>383346</td>\n",
       "      <td>408718</td>\n",
       "      <td>2011-01-16</td>\n",
       "      <td>5</td>\n",
       "      <td>This is so easy to do.  I like anything with r...</td>\n",
       "      <td>Jan</td>\n",
       "      <td>2011</td>\n",
       "    </tr>\n",
       "  </tbody>\n",
       "</table>\n",
       "</div>"
      ],
      "text/plain": [
       "        user_id recipe_id       date  rating  \\\n",
       "732206   383346    294524 2011-01-04       5   \n",
       "849428   383346    280273 2010-04-19       5   \n",
       "887712   383346    301070 2009-06-09       5   \n",
       "618591   383346    176934 2007-09-06       5   \n",
       "511420   383346    454534 2011-05-02       5   \n",
       "248971   383346    248610 2007-09-18       5   \n",
       "1008960  383346    209800 2007-11-11       5   \n",
       "438658   383346    192285 2012-02-20       5   \n",
       "323181   383346    305691 2013-05-08       5   \n",
       "1025996  383346    408718 2011-01-16       5   \n",
       "\n",
       "                                                    review review_month  \\\n",
       "732206   I made this drink for DH and he liked it so mu...          Jan   \n",
       "849428   This is so yummy.  I used the white bread I ma...          Apr   \n",
       "887712   I used raspberry jelly.  This was a very good ...          Jun   \n",
       "618591   This is a very easy marinade to do.  No veggie...          Sep   \n",
       "511420   This drink is great.  Perfect for a hot aftern...          May   \n",
       "248971   I didn't add grenadine in the shaker.  But I d...          Sep   \n",
       "1008960  I used all purpose flour also.  I used butter,...          Nov   \n",
       "438658   This is so easy to do.  It's amazing how it's ...          Feb   \n",
       "323181   For me this dipping oil was perfect.  I liked ...          May   \n",
       "1025996  This is so easy to do.  I like anything with r...          Jan   \n",
       "\n",
       "         review_year  \n",
       "732206          2011  \n",
       "849428          2010  \n",
       "887712          2009  \n",
       "618591          2007  \n",
       "511420          2011  \n",
       "248971          2007  \n",
       "1008960         2007  \n",
       "438658          2012  \n",
       "323181          2013  \n",
       "1025996         2011  "
      ]
     },
     "execution_count": 10,
     "metadata": {},
     "output_type": "execute_result"
    }
   ],
   "source": [
    "# sort the recipes of user 383346 by the rating in descending order (5->1)\n",
    "user_383346.sort_values(\"rating\", ascending=False).head(10)"
   ]
  },
  {
   "cell_type": "code",
   "execution_count": 11,
   "metadata": {
    "colab": {
     "base_uri": "https://localhost:8080/",
     "height": 581
    },
    "id": "uagzGGCiVACG",
    "outputId": "8f784498-873e-4f82-a5fe-a7c4f33ec948"
   },
   "outputs": [
    {
     "data": {
      "text/html": [
       "<div>\n",
       "<style scoped>\n",
       "    .dataframe tbody tr th:only-of-type {\n",
       "        vertical-align: middle;\n",
       "    }\n",
       "\n",
       "    .dataframe tbody tr th {\n",
       "        vertical-align: top;\n",
       "    }\n",
       "\n",
       "    .dataframe thead th {\n",
       "        text-align: right;\n",
       "    }\n",
       "</style>\n",
       "<table border=\"1\" class=\"dataframe\">\n",
       "  <thead>\n",
       "    <tr style=\"text-align: right;\">\n",
       "      <th></th>\n",
       "      <th>user_id</th>\n",
       "      <th>recipe_id</th>\n",
       "      <th>date</th>\n",
       "      <th>rating</th>\n",
       "      <th>review</th>\n",
       "      <th>review_month</th>\n",
       "      <th>review_year</th>\n",
       "    </tr>\n",
       "  </thead>\n",
       "  <tbody>\n",
       "    <tr>\n",
       "      <th>602805</th>\n",
       "      <td>383346</td>\n",
       "      <td>323013</td>\n",
       "      <td>2009-01-31</td>\n",
       "      <td>5</td>\n",
       "      <td>I did this filling only for 5 servings cause I...</td>\n",
       "      <td>Jan</td>\n",
       "      <td>2009</td>\n",
       "    </tr>\n",
       "    <tr>\n",
       "      <th>496703</th>\n",
       "      <td>383346</td>\n",
       "      <td>328203</td>\n",
       "      <td>2009-06-15</td>\n",
       "      <td>5</td>\n",
       "      <td>It was so yummy.  I used triple sec and unswee...</td>\n",
       "      <td>Jun</td>\n",
       "      <td>2009</td>\n",
       "    </tr>\n",
       "    <tr>\n",
       "      <th>825665</th>\n",
       "      <td>383346</td>\n",
       "      <td>382952</td>\n",
       "      <td>2009-09-13</td>\n",
       "      <td>5</td>\n",
       "      <td>It's a great appetizer.  The chili powder is g...</td>\n",
       "      <td>Sep</td>\n",
       "      <td>2009</td>\n",
       "    </tr>\n",
       "    <tr>\n",
       "      <th>680861</th>\n",
       "      <td>383346</td>\n",
       "      <td>410839</td>\n",
       "      <td>2010-07-25</td>\n",
       "      <td>5</td>\n",
       "      <td>This bacon is addicting.  I made a small batch...</td>\n",
       "      <td>Jul</td>\n",
       "      <td>2010</td>\n",
       "    </tr>\n",
       "    <tr>\n",
       "      <th>230085</th>\n",
       "      <td>383346</td>\n",
       "      <td>117908</td>\n",
       "      <td>2011-02-13</td>\n",
       "      <td>4</td>\n",
       "      <td>I made this recipe for DH.  He liked the mayo ...</td>\n",
       "      <td>Feb</td>\n",
       "      <td>2011</td>\n",
       "    </tr>\n",
       "    <tr>\n",
       "      <th>333029</th>\n",
       "      <td>383346</td>\n",
       "      <td>135210</td>\n",
       "      <td>2007-06-25</td>\n",
       "      <td>4</td>\n",
       "      <td>I sliced all my mushrooms.  I used hongarian p...</td>\n",
       "      <td>Jun</td>\n",
       "      <td>2007</td>\n",
       "    </tr>\n",
       "    <tr>\n",
       "      <th>182720</th>\n",
       "      <td>383346</td>\n",
       "      <td>229441</td>\n",
       "      <td>2009-06-16</td>\n",
       "      <td>4</td>\n",
       "      <td>This is very refreshing but another time I may...</td>\n",
       "      <td>Jun</td>\n",
       "      <td>2009</td>\n",
       "    </tr>\n",
       "    <tr>\n",
       "      <th>927561</th>\n",
       "      <td>383346</td>\n",
       "      <td>170320</td>\n",
       "      <td>2012-03-19</td>\n",
       "      <td>4</td>\n",
       "      <td>That's great that they have less fat than some...</td>\n",
       "      <td>Mar</td>\n",
       "      <td>2012</td>\n",
       "    </tr>\n",
       "    <tr>\n",
       "      <th>911707</th>\n",
       "      <td>383346</td>\n",
       "      <td>476615</td>\n",
       "      <td>2012-04-18</td>\n",
       "      <td>4</td>\n",
       "      <td>The taste of these waffles are very good.  Not...</td>\n",
       "      <td>Apr</td>\n",
       "      <td>2012</td>\n",
       "    </tr>\n",
       "    <tr>\n",
       "      <th>937599</th>\n",
       "      <td>383346</td>\n",
       "      <td>168001</td>\n",
       "      <td>2007-10-22</td>\n",
       "      <td>3</td>\n",
       "      <td>Sorry for the not so good rating.  I didn't li...</td>\n",
       "      <td>Oct</td>\n",
       "      <td>2007</td>\n",
       "    </tr>\n",
       "  </tbody>\n",
       "</table>\n",
       "</div>"
      ],
      "text/plain": [
       "       user_id recipe_id       date  rating  \\\n",
       "602805  383346    323013 2009-01-31       5   \n",
       "496703  383346    328203 2009-06-15       5   \n",
       "825665  383346    382952 2009-09-13       5   \n",
       "680861  383346    410839 2010-07-25       5   \n",
       "230085  383346    117908 2011-02-13       4   \n",
       "333029  383346    135210 2007-06-25       4   \n",
       "182720  383346    229441 2009-06-16       4   \n",
       "927561  383346    170320 2012-03-19       4   \n",
       "911707  383346    476615 2012-04-18       4   \n",
       "937599  383346    168001 2007-10-22       3   \n",
       "\n",
       "                                                   review review_month  \\\n",
       "602805  I did this filling only for 5 servings cause I...          Jan   \n",
       "496703  It was so yummy.  I used triple sec and unswee...          Jun   \n",
       "825665  It's a great appetizer.  The chili powder is g...          Sep   \n",
       "680861  This bacon is addicting.  I made a small batch...          Jul   \n",
       "230085  I made this recipe for DH.  He liked the mayo ...          Feb   \n",
       "333029  I sliced all my mushrooms.  I used hongarian p...          Jun   \n",
       "182720  This is very refreshing but another time I may...          Jun   \n",
       "927561  That's great that they have less fat than some...          Mar   \n",
       "911707  The taste of these waffles are very good.  Not...          Apr   \n",
       "937599  Sorry for the not so good rating.  I didn't li...          Oct   \n",
       "\n",
       "        review_year  \n",
       "602805         2009  \n",
       "496703         2009  \n",
       "825665         2009  \n",
       "680861         2010  \n",
       "230085         2011  \n",
       "333029         2007  \n",
       "182720         2009  \n",
       "927561         2012  \n",
       "911707         2012  \n",
       "937599         2007  "
      ]
     },
     "execution_count": 11,
     "metadata": {},
     "output_type": "execute_result"
    }
   ],
   "source": [
    "# recipes with lowest rating by user\n",
    "user_383346.sort_values(\"rating\", ascending=False).tail(10)"
   ]
  },
  {
   "cell_type": "code",
   "execution_count": 12,
   "metadata": {
    "colab": {
     "base_uri": "https://localhost:8080/"
    },
    "id": "K9PyRTkTVACH",
    "outputId": "a71125cc-7bd5-4b0d-9422-e6d489a97817"
   },
   "outputs": [
    {
     "data": {
      "text/plain": [
       "<surprise.dataset.DatasetAutoFolds at 0x19a16abe1c0>"
      ]
     },
     "execution_count": 12,
     "metadata": {},
     "output_type": "execute_result"
    }
   ],
   "source": [
    "# Set the reader with accurate rating scale\n",
    "my_reader = Reader(rating_scale=(1, 5))\n",
    "\n",
    "# Set the dataset\n",
    "# Remember that the df parameter has to have 3 columns:\n",
    "# User ids, Item ids (recipe), Ratings\n",
    "my_dataset = Dataset.load_from_df(sampled_data[[\"user_id\", \"recipe_id\", \"rating\"]], my_reader)\n",
    "my_dataset"
   ]
  },
  {
   "cell_type": "code",
   "execution_count": 13,
   "metadata": {
    "id": "ZoWTolF_VACH"
   },
   "outputs": [],
   "source": [
    "# Import GridSearchCV for algorithm tuning\n",
    "from surprise.model_selection import GridSearchCV\n",
    "\n",
    "# Set the parameter grid\n",
    "param_grid = {\n",
    "    'n_factors': [100, 150],\n",
    "    'n_epochs': [10, 20],\n",
    "    'lr_all': [0.005, 0.1],\n",
    "    'biased': [False] } #The parameter indicates to the algorithm that all latent information must be stored.\n",
    "\n",
    "# Set GridSearchCV with 3 cross validation\n",
    "GS = GridSearchCV(FunkSVD, param_grid, measures=['fcp'], cv=3)\n",
    "\n",
    "# Fit the model\n",
    "GS.fit(my_dataset)"
   ]
  },
  {
   "cell_type": "code",
   "execution_count": 14,
   "metadata": {
    "colab": {
     "base_uri": "https://localhost:8080/"
    },
    "id": "gMIezrWpVACH",
    "outputId": "63805adc-95c9-403f-9572-28450324f391"
   },
   "outputs": [
    {
     "data": {
      "text/plain": [
       "0.38475075974151185"
      ]
     },
     "execution_count": 14,
     "metadata": {},
     "output_type": "execute_result"
    }
   ],
   "source": [
    "# Check the FCP accuracy score (1.0 is ideal and 0 is worst)\n",
    "GS.best_score['fcp']"
   ]
  },
  {
   "cell_type": "code",
   "execution_count": 15,
   "metadata": {
    "colab": {
     "base_uri": "https://localhost:8080/"
    },
    "id": "Sd7QXcZXVACH",
    "outputId": "51dde304-56a9-4fdf-c088-eb35f58889a6"
   },
   "outputs": [
    {
     "data": {
      "text/plain": [
       "{'n_factors': 100, 'n_epochs': 20, 'lr_all': 0.005, 'biased': False}"
      ]
     },
     "execution_count": 15,
     "metadata": {},
     "output_type": "execute_result"
    }
   ],
   "source": [
    "# Check the best parameters\n",
    "GS.best_params['fcp']"
   ]
  },
  {
   "cell_type": "code",
   "execution_count": 16,
   "metadata": {
    "id": "U4EgaPKNVACH"
   },
   "outputs": [],
   "source": [
    "# Import train_test_split\n",
    "from surprise.model_selection import train_test_split\n",
    "\n",
    "# Split train test set\n",
    "trainset, testset = train_test_split(my_dataset, test_size=0.25)\n",
    "\n",
    "# Set the algorithm\n",
    "my_svd = FunkSVD(n_factors=100,\n",
    "                 n_epochs=20,\n",
    "                 lr_all=0.005,\n",
    "                 biased=False,\n",
    "                 verbose=0)\n",
    "# Fit train set\n",
    "my_svd.fit(trainset)\n",
    "\n",
    "# Test the algorithm using test set\n",
    "my_pred = my_svd.test(testset)"
   ]
  },
  {
   "cell_type": "code",
   "execution_count": 17,
   "metadata": {
    "id": "0OdpK4qgVACH"
   },
   "outputs": [],
   "source": [
    "# Put my_pred result in a dataframe\n",
    "df_prediction = pd.DataFrame(my_pred, columns=['user_id',\n",
    "                                                     'recipe_id',\n",
    "                                                     'actual',\n",
    "                                                     'prediction',\n",
    "                                                     'details'])\n",
    "\n",
    "# Calculate the difference of actual and prediction into diff column\n",
    "df_prediction['diff'] = abs(df_prediction['prediction'] -\n",
    "                            df_prediction['actual'])"
   ]
  },
  {
   "cell_type": "code",
   "execution_count": 18,
   "metadata": {
    "colab": {
     "base_uri": "https://localhost:8080/",
     "height": 206
    },
    "id": "MdDji1WKVACI",
    "outputId": "6047e6e3-0b54-407a-8668-8dfa9258ab0c"
   },
   "outputs": [
    {
     "data": {
      "text/html": [
       "<div>\n",
       "<style scoped>\n",
       "    .dataframe tbody tr th:only-of-type {\n",
       "        vertical-align: middle;\n",
       "    }\n",
       "\n",
       "    .dataframe tbody tr th {\n",
       "        vertical-align: top;\n",
       "    }\n",
       "\n",
       "    .dataframe thead th {\n",
       "        text-align: right;\n",
       "    }\n",
       "</style>\n",
       "<table border=\"1\" class=\"dataframe\">\n",
       "  <thead>\n",
       "    <tr style=\"text-align: right;\">\n",
       "      <th></th>\n",
       "      <th>user_id</th>\n",
       "      <th>recipe_id</th>\n",
       "      <th>actual</th>\n",
       "      <th>prediction</th>\n",
       "      <th>details</th>\n",
       "      <th>diff</th>\n",
       "    </tr>\n",
       "  </thead>\n",
       "  <tbody>\n",
       "    <tr>\n",
       "      <th>0</th>\n",
       "      <td>400420</td>\n",
       "      <td>199136</td>\n",
       "      <td>4.0</td>\n",
       "      <td>4.667704</td>\n",
       "      <td>{'was_impossible': True, 'reason': 'User and i...</td>\n",
       "      <td>0.667704</td>\n",
       "    </tr>\n",
       "    <tr>\n",
       "      <th>1</th>\n",
       "      <td>739451</td>\n",
       "      <td>32614</td>\n",
       "      <td>5.0</td>\n",
       "      <td>4.667704</td>\n",
       "      <td>{'was_impossible': True, 'reason': 'User and i...</td>\n",
       "      <td>0.332296</td>\n",
       "    </tr>\n",
       "    <tr>\n",
       "      <th>2</th>\n",
       "      <td>1008402</td>\n",
       "      <td>82505</td>\n",
       "      <td>5.0</td>\n",
       "      <td>4.667704</td>\n",
       "      <td>{'was_impossible': True, 'reason': 'User and i...</td>\n",
       "      <td>0.332296</td>\n",
       "    </tr>\n",
       "    <tr>\n",
       "      <th>3</th>\n",
       "      <td>440735</td>\n",
       "      <td>437187</td>\n",
       "      <td>4.0</td>\n",
       "      <td>4.667704</td>\n",
       "      <td>{'was_impossible': True, 'reason': 'User and i...</td>\n",
       "      <td>0.667704</td>\n",
       "    </tr>\n",
       "    <tr>\n",
       "      <th>4</th>\n",
       "      <td>422893</td>\n",
       "      <td>104182</td>\n",
       "      <td>5.0</td>\n",
       "      <td>4.667704</td>\n",
       "      <td>{'was_impossible': True, 'reason': 'User and i...</td>\n",
       "      <td>0.332296</td>\n",
       "    </tr>\n",
       "  </tbody>\n",
       "</table>\n",
       "</div>"
      ],
      "text/plain": [
       "   user_id recipe_id  actual  prediction  \\\n",
       "0   400420    199136     4.0    4.667704   \n",
       "1   739451     32614     5.0    4.667704   \n",
       "2  1008402     82505     5.0    4.667704   \n",
       "3   440735    437187     4.0    4.667704   \n",
       "4   422893    104182     5.0    4.667704   \n",
       "\n",
       "                                             details      diff  \n",
       "0  {'was_impossible': True, 'reason': 'User and i...  0.667704  \n",
       "1  {'was_impossible': True, 'reason': 'User and i...  0.332296  \n",
       "2  {'was_impossible': True, 'reason': 'User and i...  0.332296  \n",
       "3  {'was_impossible': True, 'reason': 'User and i...  0.667704  \n",
       "4  {'was_impossible': True, 'reason': 'User and i...  0.332296  "
      ]
     },
     "execution_count": 18,
     "metadata": {},
     "output_type": "execute_result"
    }
   ],
   "source": [
    "# Check the df_prediction\n",
    "df_prediction.head()"
   ]
  },
  {
   "cell_type": "code",
   "execution_count": 19,
   "metadata": {
    "colab": {
     "base_uri": "https://localhost:8080/",
     "height": 363
    },
    "id": "tctchlidVACI",
    "outputId": "b72a0c93-db96-4af6-9525-01ebb00cb37f"
   },
   "outputs": [
    {
     "data": {
      "text/html": [
       "<div>\n",
       "<style scoped>\n",
       "    .dataframe tbody tr th:only-of-type {\n",
       "        vertical-align: middle;\n",
       "    }\n",
       "\n",
       "    .dataframe tbody tr th {\n",
       "        vertical-align: top;\n",
       "    }\n",
       "\n",
       "    .dataframe thead th {\n",
       "        text-align: right;\n",
       "    }\n",
       "</style>\n",
       "<table border=\"1\" class=\"dataframe\">\n",
       "  <thead>\n",
       "    <tr style=\"text-align: right;\">\n",
       "      <th></th>\n",
       "      <th>user_id</th>\n",
       "      <th>recipe_id</th>\n",
       "      <th>actual</th>\n",
       "      <th>prediction</th>\n",
       "      <th>details</th>\n",
       "      <th>diff</th>\n",
       "    </tr>\n",
       "  </thead>\n",
       "  <tbody>\n",
       "    <tr>\n",
       "      <th>358</th>\n",
       "      <td>353131</td>\n",
       "      <td>94674</td>\n",
       "      <td>5.0</td>\n",
       "      <td>1.0</td>\n",
       "      <td>{'was_impossible': False}</td>\n",
       "      <td>4.0</td>\n",
       "    </tr>\n",
       "    <tr>\n",
       "      <th>826</th>\n",
       "      <td>57400</td>\n",
       "      <td>20374</td>\n",
       "      <td>5.0</td>\n",
       "      <td>1.0</td>\n",
       "      <td>{'was_impossible': False}</td>\n",
       "      <td>4.0</td>\n",
       "    </tr>\n",
       "    <tr>\n",
       "      <th>1842</th>\n",
       "      <td>29418</td>\n",
       "      <td>17118</td>\n",
       "      <td>5.0</td>\n",
       "      <td>1.0</td>\n",
       "      <td>{'was_impossible': False}</td>\n",
       "      <td>4.0</td>\n",
       "    </tr>\n",
       "    <tr>\n",
       "      <th>835</th>\n",
       "      <td>31499</td>\n",
       "      <td>12572</td>\n",
       "      <td>5.0</td>\n",
       "      <td>1.0</td>\n",
       "      <td>{'was_impossible': False}</td>\n",
       "      <td>4.0</td>\n",
       "    </tr>\n",
       "    <tr>\n",
       "      <th>347</th>\n",
       "      <td>658542</td>\n",
       "      <td>87420</td>\n",
       "      <td>5.0</td>\n",
       "      <td>1.0</td>\n",
       "      <td>{'was_impossible': False}</td>\n",
       "      <td>4.0</td>\n",
       "    </tr>\n",
       "    <tr>\n",
       "      <th>2370</th>\n",
       "      <td>260325</td>\n",
       "      <td>607</td>\n",
       "      <td>5.0</td>\n",
       "      <td>1.0</td>\n",
       "      <td>{'was_impossible': False}</td>\n",
       "      <td>4.0</td>\n",
       "    </tr>\n",
       "    <tr>\n",
       "      <th>842</th>\n",
       "      <td>103876</td>\n",
       "      <td>111212</td>\n",
       "      <td>5.0</td>\n",
       "      <td>1.0</td>\n",
       "      <td>{'was_impossible': False}</td>\n",
       "      <td>4.0</td>\n",
       "    </tr>\n",
       "    <tr>\n",
       "      <th>1573</th>\n",
       "      <td>250031</td>\n",
       "      <td>55673</td>\n",
       "      <td>5.0</td>\n",
       "      <td>1.0</td>\n",
       "      <td>{'was_impossible': False}</td>\n",
       "      <td>4.0</td>\n",
       "    </tr>\n",
       "    <tr>\n",
       "      <th>847</th>\n",
       "      <td>469786</td>\n",
       "      <td>37437</td>\n",
       "      <td>5.0</td>\n",
       "      <td>1.0</td>\n",
       "      <td>{'was_impossible': False}</td>\n",
       "      <td>4.0</td>\n",
       "    </tr>\n",
       "    <tr>\n",
       "      <th>637</th>\n",
       "      <td>86855</td>\n",
       "      <td>8794</td>\n",
       "      <td>5.0</td>\n",
       "      <td>1.0</td>\n",
       "      <td>{'was_impossible': False}</td>\n",
       "      <td>4.0</td>\n",
       "    </tr>\n",
       "  </tbody>\n",
       "</table>\n",
       "</div>"
      ],
      "text/plain": [
       "     user_id recipe_id  actual  prediction                    details  diff\n",
       "358   353131     94674     5.0         1.0  {'was_impossible': False}   4.0\n",
       "826    57400     20374     5.0         1.0  {'was_impossible': False}   4.0\n",
       "1842   29418     17118     5.0         1.0  {'was_impossible': False}   4.0\n",
       "835    31499     12572     5.0         1.0  {'was_impossible': False}   4.0\n",
       "347   658542     87420     5.0         1.0  {'was_impossible': False}   4.0\n",
       "2370  260325       607     5.0         1.0  {'was_impossible': False}   4.0\n",
       "842   103876    111212     5.0         1.0  {'was_impossible': False}   4.0\n",
       "1573  250031     55673     5.0         1.0  {'was_impossible': False}   4.0\n",
       "847   469786     37437     5.0         1.0  {'was_impossible': False}   4.0\n",
       "637    86855      8794     5.0         1.0  {'was_impossible': False}   4.0"
      ]
     },
     "execution_count": 19,
     "metadata": {},
     "output_type": "execute_result"
    }
   ],
   "source": [
    "# See the worst 10 predictions\n",
    "df_prediction.sort_values(by='diff')[-10:]"
   ]
  },
  {
   "cell_type": "code",
   "execution_count": 20,
   "metadata": {
    "colab": {
     "base_uri": "https://localhost:8080/",
     "height": 49
    },
    "id": "WtNeos1uVACI",
    "outputId": "fbf1e6c2-570e-4782-f3c1-35b81f6cce73"
   },
   "outputs": [
    {
     "data": {
      "text/html": [
       "<div>\n",
       "<style scoped>\n",
       "    .dataframe tbody tr th:only-of-type {\n",
       "        vertical-align: middle;\n",
       "    }\n",
       "\n",
       "    .dataframe tbody tr th {\n",
       "        vertical-align: top;\n",
       "    }\n",
       "\n",
       "    .dataframe thead th {\n",
       "        text-align: right;\n",
       "    }\n",
       "</style>\n",
       "<table border=\"1\" class=\"dataframe\">\n",
       "  <thead>\n",
       "    <tr style=\"text-align: right;\">\n",
       "      <th></th>\n",
       "      <th>user_id</th>\n",
       "      <th>recipe_id</th>\n",
       "      <th>actual</th>\n",
       "      <th>prediction</th>\n",
       "      <th>details</th>\n",
       "      <th>diff</th>\n",
       "    </tr>\n",
       "  </thead>\n",
       "  <tbody>\n",
       "    <tr>\n",
       "      <th>2025</th>\n",
       "      <td>350577</td>\n",
       "      <td>56103</td>\n",
       "      <td>1.0</td>\n",
       "      <td>1.0</td>\n",
       "      <td>{'was_impossible': False}</td>\n",
       "      <td>0.0</td>\n",
       "    </tr>\n",
       "  </tbody>\n",
       "</table>\n",
       "</div>"
      ],
      "text/plain": [
       "     user_id recipe_id  actual  prediction                    details  diff\n",
       "2025  350577     56103     1.0         1.0  {'was_impossible': False}   0.0"
      ]
     },
     "execution_count": 20,
     "metadata": {},
     "output_type": "execute_result"
    }
   ],
   "source": [
    "# Check total rows with same actual and prediction ratings\n",
    "df_prediction[df_prediction['diff'] <= 0]"
   ]
  },
  {
   "cell_type": "code",
   "execution_count": 21,
   "metadata": {
    "colab": {
     "base_uri": "https://localhost:8080/"
    },
    "id": "MfLH12IPVACI",
    "outputId": "e3ce0943-36af-4af6-8f51-7e4d7cfabd6e"
   },
   "outputs": [
    {
     "data": {
      "text/plain": [
       "0.0003732736095558044"
      ]
     },
     "execution_count": 21,
     "metadata": {},
     "output_type": "execute_result"
    }
   ],
   "source": [
    "(df_prediction['diff'] == 0).mean()"
   ]
  },
  {
   "cell_type": "code",
   "execution_count": 22,
   "metadata": {
    "colab": {
     "base_uri": "https://localhost:8080/"
    },
    "id": "DkqCmunJVACI",
    "outputId": "187ee5a9-c074-4af5-d43a-4f3513b31569"
   },
   "outputs": [
    {
     "data": {
      "text/plain": [
       "0.8678611422172452"
      ]
     },
     "execution_count": 22,
     "metadata": {},
     "output_type": "execute_result"
    }
   ],
   "source": [
    "(df_prediction[\"diff\"] <= 1).mean()"
   ]
  },
  {
   "cell_type": "code",
   "execution_count": 23,
   "metadata": {
    "colab": {
     "base_uri": "https://localhost:8080/"
    },
    "id": "ovDFj2IOVACI",
    "outputId": "912858ae-e79e-41e6-81ab-a1f19789d810"
   },
   "outputs": [
    {
     "data": {
      "text/plain": [
       "<surprise.prediction_algorithms.matrix_factorization.SVD at 0x19a16c71a90>"
      ]
     },
     "execution_count": 23,
     "metadata": {},
     "output_type": "execute_result"
    }
   ],
   "source": [
    "# Build full trainset\n",
    "full_trainset = my_dataset.build_full_trainset()\n",
    "\n",
    "# Build the SVD algorithm\n",
    "my_svd = FunkSVD(n_factors=100,\n",
    "                 n_epochs=20,\n",
    "                 lr_all=0.005,\n",
    "                 biased=False,\n",
    "                 verbose=0)\n",
    "\n",
    "# Fit with full trainset\n",
    "my_svd.fit(full_trainset)"
   ]
  },
  {
   "cell_type": "code",
   "execution_count": 24,
   "metadata": {
    "id": "ijg4NzAHVACI"
   },
   "outputs": [],
   "source": [
    "# Define the full test set\n",
    "full_testset = full_trainset.build_anti_testset(fill=-1)"
   ]
  },
  {
   "cell_type": "code",
   "execution_count": null,
   "metadata": {
    "id": "pqyYRoARVACJ"
   },
   "outputs": [],
   "source": [
    "# Set the prediction\n",
    "my_prediction = my_svd.test(full_testset)"
   ]
  },
  {
   "cell_type": "code",
   "execution_count": null,
   "metadata": {
    "id": "dX81DVjjVACJ"
   },
   "outputs": [],
   "source": [
    "# Put into a dataframe\n",
    "df_prediction = pd.DataFrame(my_prediction, columns=['user_id',\n",
    "                                                     'recipe_id',\n",
    "                                                     'actual',\n",
    "                                                     'prediction',\n",
    "                                                     'details'])"
   ]
  },
  {
   "cell_type": "code",
   "execution_count": null,
   "metadata": {
    "id": "9SnmxRI7VACJ"
   },
   "outputs": [],
   "source": [
    "# Check user id `383346` predictions\n",
    "df = df_prediction[df_prediction['user_id'] == 383346]\\\n",
    "    .sort_values(by=['prediction'], ascending=False)\\\n",
    "    .head()\n",
    "\n",
    "display(df)"
   ]
  },
  {
   "cell_type": "code",
   "execution_count": null,
   "metadata": {
    "id": "MHq1VwpkVACJ"
   },
   "outputs": [],
   "source": [
    "# Merge with the anime data\n",
    "merge_df = df.merge(recipes_df[[\"recipe_id\", \"name\", \"tags\", \"description\"]].drop_duplicates(), how='left',\n",
    "                    left_on=['recipe_id'], right_on=['recipe_id'])\n",
    "\n",
    "# Check anime of user 1497\n",
    "merge_df"
   ]
  },
  {
   "cell_type": "code",
   "execution_count": null,
   "metadata": {
    "id": "6RE7D1D7VACJ"
   },
   "outputs": [],
   "source": []
  },
  {
   "cell_type": "code",
   "execution_count": null,
   "metadata": {
    "id": "3d-qJAKxVACJ"
   },
   "outputs": [],
   "source": []
  }
 ],
 "metadata": {
  "colab": {
   "gpuType": "T4",
   "provenance": []
  },
  "kernelspec": {
   "display_name": "Python 3 (ipykernel)",
   "language": "python",
   "name": "python3"
  },
  "language_info": {
   "codemirror_mode": {
    "name": "ipython",
    "version": 3
   },
   "file_extension": ".py",
   "mimetype": "text/x-python",
   "name": "python",
   "nbconvert_exporter": "python",
   "pygments_lexer": "ipython3",
   "version": "3.8.17"
  }
 },
 "nbformat": 4,
 "nbformat_minor": 1
}
